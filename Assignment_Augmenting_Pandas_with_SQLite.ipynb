{
  "nbformat": 4,
  "nbformat_minor": 0,
  "metadata": {
    "colab": {
      "provenance": [],
      "toc_visible": true
    },
    "kernelspec": {
      "name": "python3",
      "display_name": "Python 3"
    },
    "language_info": {
      "name": "python"
    }
  },
  "cells": [
    {
      "cell_type": "markdown",
      "metadata": {
        "id": "2ZK7M8-wZ_J8"
      },
      "source": [
        "# Project Notebook: Augmenting Pandas with SQLite"
      ]
    },
    {
      "cell_type": "markdown",
      "metadata": {
        "id": "qadTA4HuceEl"
      },
      "source": [
        "## Question 1: Introduction"
      ]
    },
    {
      "cell_type": "markdown",
      "metadata": {
        "id": "aF9k8rixclSR"
      },
      "source": [
        "In this session, we explored a few different ways to work with larger datasets in pandas. In this guided project, we'll practice using some of the techniques we learned to analyze startup investments from Crunchbase.com.\n",
        "\n",
        "Every year, thousands of startup companies raise financing from investors. Each time a startup raises money, we refer to the event as a fundraising round. Crunchbase is a website that crowdsources information on the fundraising rounds of many startups. The Crunchbase user community submits, edits, and maintains most of the information in Crunchbase.\n",
        "\n",
        "In return, Crunchbase makes the data available through a Web application and a fee-based API. Before Crunchbase switched to the paid API model, multiple groups crawled the site and released the data online. Because the information on the startups and their fundraising rounds is always changing, the data set we'll be using isn't completely up to date.\n",
        "\n",
        "Throughout this project, we'll practice working with different memory constraints. In this step, let's assume we only have 10 megabytes of available memory. While crunchbase-investments.csv (https://bit.ly/3BPcobU) consumes 10.3 megabytes of disk space, we know from earlier lessons that pandas often requires 4 to 6 times amount of space in memory as the file does on disk (especially when there's many string columns).\n",
        "\n",
        "\n",
        "**Tasks**\n",
        "\n",
        "* Because the data set contains over 50,000 rows, you'll need to read the data set into dataframes using 5,000 row chunks to ensure that each chunk consumes much less than 10 megabytes of memory.\n",
        "* Across all of the chunks, become familiar with:\n",
        "1. Each column's missing value counts.\n",
        "2. Each column's memory footprint.\n",
        "3. The total memory footprint of all of the chunks combined.\n",
        "4. Which column(s) we can drop because they aren't useful for analysis.\n",
        "\n",
        "\n"
      ]
    },
    {
      "cell_type": "code",
      "source": [
        "# Dataset URL = https://bit.ly/3BPcob\n",
        "import pandas as pd\n",
        "\n",
        "import matplotlib.pyplot as plt\n",
        "\n",
        "df = pd.read_csv(\"https://bit.ly/3BPcobU\",encoding = 'unicode_escape')\n",
        "df.shape\n"
      ],
      "metadata": {
        "colab": {
          "base_uri": "https://localhost:8080/"
        },
        "id": "i6nEAS3yeEqd",
        "outputId": "85a3f854-880e-4c30-9215-623581df8a26"
      },
      "execution_count": 5,
      "outputs": [
        {
          "output_type": "stream",
          "name": "stderr",
          "text": [
            "/usr/local/lib/python3.8/dist-packages/IPython/core/interactiveshell.py:3326: DtypeWarning: Columns (9) have mixed types.Specify dtype option on import or set low_memory=False.\n",
            "  exec(code_obj, self.user_global_ns, self.user_ns)\n"
          ]
        },
        {
          "output_type": "execute_result",
          "data": {
            "text/plain": [
              "(52870, 20)"
            ]
          },
          "metadata": {},
          "execution_count": 5
        }
      ]
    },
    {
      "cell_type": "code",
      "source": [
        "# checking missing data per column in the entire network\n",
        "\n",
        "df.isnull().sum()"
      ],
      "metadata": {
        "colab": {
          "base_uri": "https://localhost:8080/"
        },
        "id": "lg0dzgFkesjy",
        "outputId": "59dbd550-3053-404d-e38a-ac7666a40084"
      },
      "execution_count": 6,
      "outputs": [
        {
          "output_type": "execute_result",
          "data": {
            "text/plain": [
              "company_permalink             1\n",
              "company_name                  1\n",
              "company_category_code       643\n",
              "company_country_code          1\n",
              "company_state_code          492\n",
              "company_region                1\n",
              "company_city                533\n",
              "investor_permalink            2\n",
              "investor_name                 2\n",
              "investor_category_code    50427\n",
              "investor_country_code     12001\n",
              "investor_state_code       16809\n",
              "investor_region               2\n",
              "investor_city             12480\n",
              "funding_round_type            3\n",
              "funded_at                     3\n",
              "funded_month                  3\n",
              "funded_quarter                3\n",
              "funded_year                   3\n",
              "raised_amount_usd          3599\n",
              "dtype: int64"
            ]
          },
          "metadata": {},
          "execution_count": 6
        }
      ]
    },
    {
      "cell_type": "code",
      "metadata": {
        "id": "tOYoNl5qe1ow",
        "colab": {
          "base_uri": "https://localhost:8080/"
        },
        "outputId": "ec03f930-26e8-4124-f689-6fb1f2dd5e82"
      },
      "source": [
        "# dividing data into chunks and checking null info in each chunk\n",
        "\n",
        "\n",
        "chrunch_iter = pd.read_csv(\"https://bit.ly/3BPcobU\",encoding = 'unicode_escape', chunksize=5000)\n",
        "for chunk in chrunch_iter:\n",
        "\n",
        "#calcualting memeory usage per chunk  \n",
        "  print(chunk.info())"
      ],
      "execution_count": 7,
      "outputs": [
        {
          "output_type": "stream",
          "name": "stdout",
          "text": [
            "<class 'pandas.core.frame.DataFrame'>\n",
            "RangeIndex: 5000 entries, 0 to 4999\n",
            "Data columns (total 20 columns):\n",
            " #   Column                  Non-Null Count  Dtype  \n",
            "---  ------                  --------------  -----  \n",
            " 0   company_permalink       5000 non-null   object \n",
            " 1   company_name            5000 non-null   object \n",
            " 2   company_category_code   4948 non-null   object \n",
            " 3   company_country_code    5000 non-null   object \n",
            " 4   company_state_code      4947 non-null   object \n",
            " 5   company_region          5000 non-null   object \n",
            " 6   company_city            4936 non-null   object \n",
            " 7   investor_permalink      5000 non-null   object \n",
            " 8   investor_name           5000 non-null   object \n",
            " 9   investor_category_code  2443 non-null   object \n",
            " 10  investor_country_code   4222 non-null   object \n",
            " 11  investor_state_code     3629 non-null   object \n",
            " 12  investor_region         5000 non-null   object \n",
            " 13  investor_city           4100 non-null   object \n",
            " 14  funding_round_type      5000 non-null   object \n",
            " 15  funded_at               5000 non-null   object \n",
            " 16  funded_month            5000 non-null   object \n",
            " 17  funded_quarter          5000 non-null   object \n",
            " 18  funded_year             5000 non-null   int64  \n",
            " 19  raised_amount_usd       4347 non-null   float64\n",
            "dtypes: float64(1), int64(1), object(18)\n",
            "memory usage: 781.4+ KB\n",
            "None\n",
            "<class 'pandas.core.frame.DataFrame'>\n",
            "RangeIndex: 5000 entries, 5000 to 9999\n",
            "Data columns (total 20 columns):\n",
            " #   Column                  Non-Null Count  Dtype  \n",
            "---  ------                  --------------  -----  \n",
            " 0   company_permalink       5000 non-null   object \n",
            " 1   company_name            5000 non-null   object \n",
            " 2   company_category_code   4949 non-null   object \n",
            " 3   company_country_code    5000 non-null   object \n",
            " 4   company_state_code      4957 non-null   object \n",
            " 5   company_region          5000 non-null   object \n",
            " 6   company_city            4955 non-null   object \n",
            " 7   investor_permalink      5000 non-null   object \n",
            " 8   investor_name           5000 non-null   object \n",
            " 9   investor_category_code  0 non-null      float64\n",
            " 10  investor_country_code   4739 non-null   object \n",
            " 11  investor_state_code     4286 non-null   object \n",
            " 12  investor_region         5000 non-null   object \n",
            " 13  investor_city           4687 non-null   object \n",
            " 14  funding_round_type      5000 non-null   object \n",
            " 15  funded_at               5000 non-null   object \n",
            " 16  funded_month            5000 non-null   object \n",
            " 17  funded_quarter          5000 non-null   object \n",
            " 18  funded_year             5000 non-null   int64  \n",
            " 19  raised_amount_usd       4761 non-null   float64\n",
            "dtypes: float64(2), int64(1), object(17)\n",
            "memory usage: 781.4+ KB\n",
            "None\n",
            "<class 'pandas.core.frame.DataFrame'>\n",
            "RangeIndex: 5000 entries, 10000 to 14999\n",
            "Data columns (total 20 columns):\n",
            " #   Column                  Non-Null Count  Dtype  \n",
            "---  ------                  --------------  -----  \n",
            " 0   company_permalink       5000 non-null   object \n",
            " 1   company_name            5000 non-null   object \n",
            " 2   company_category_code   4918 non-null   object \n",
            " 3   company_country_code    5000 non-null   object \n",
            " 4   company_state_code      4944 non-null   object \n",
            " 5   company_region          5000 non-null   object \n",
            " 6   company_city            4956 non-null   object \n",
            " 7   investor_permalink      5000 non-null   object \n",
            " 8   investor_name           5000 non-null   object \n",
            " 9   investor_category_code  0 non-null      float64\n",
            " 10  investor_country_code   4729 non-null   object \n",
            " 11  investor_state_code     4192 non-null   object \n",
            " 12  investor_region         5000 non-null   object \n",
            " 13  investor_city           4686 non-null   object \n",
            " 14  funding_round_type      5000 non-null   object \n",
            " 15  funded_at               5000 non-null   object \n",
            " 16  funded_month            5000 non-null   object \n",
            " 17  funded_quarter          5000 non-null   object \n",
            " 18  funded_year             5000 non-null   int64  \n",
            " 19  raised_amount_usd       4779 non-null   float64\n",
            "dtypes: float64(2), int64(1), object(17)\n",
            "memory usage: 781.4+ KB\n",
            "None\n",
            "<class 'pandas.core.frame.DataFrame'>\n",
            "RangeIndex: 5000 entries, 15000 to 19999\n",
            "Data columns (total 20 columns):\n",
            " #   Column                  Non-Null Count  Dtype  \n",
            "---  ------                  --------------  -----  \n",
            " 0   company_permalink       5000 non-null   object \n",
            " 1   company_name            5000 non-null   object \n",
            " 2   company_category_code   4943 non-null   object \n",
            " 3   company_country_code    5000 non-null   object \n",
            " 4   company_state_code      4964 non-null   object \n",
            " 5   company_region          5000 non-null   object \n",
            " 6   company_city            4956 non-null   object \n",
            " 7   investor_permalink      5000 non-null   object \n",
            " 8   investor_name           5000 non-null   object \n",
            " 9   investor_category_code  0 non-null      float64\n",
            " 10  investor_country_code   4761 non-null   object \n",
            " 11  investor_state_code     4286 non-null   object \n",
            " 12  investor_region         5000 non-null   object \n",
            " 13  investor_city           4726 non-null   object \n",
            " 14  funding_round_type      5000 non-null   object \n",
            " 15  funded_at               5000 non-null   object \n",
            " 16  funded_month            5000 non-null   object \n",
            " 17  funded_quarter          5000 non-null   object \n",
            " 18  funded_year             5000 non-null   int64  \n",
            " 19  raised_amount_usd       4701 non-null   float64\n",
            "dtypes: float64(2), int64(1), object(17)\n",
            "memory usage: 781.4+ KB\n",
            "None\n",
            "<class 'pandas.core.frame.DataFrame'>\n",
            "RangeIndex: 5000 entries, 20000 to 24999\n",
            "Data columns (total 20 columns):\n",
            " #   Column                  Non-Null Count  Dtype  \n",
            "---  ------                  --------------  -----  \n",
            " 0   company_permalink       5000 non-null   object \n",
            " 1   company_name            5000 non-null   object \n",
            " 2   company_category_code   4931 non-null   object \n",
            " 3   company_country_code    5000 non-null   object \n",
            " 4   company_state_code      4960 non-null   object \n",
            " 5   company_region          5000 non-null   object \n",
            " 6   company_city            4959 non-null   object \n",
            " 7   investor_permalink      5000 non-null   object \n",
            " 8   investor_name           5000 non-null   object \n",
            " 9   investor_category_code  0 non-null      float64\n",
            " 10  investor_country_code   4648 non-null   object \n",
            " 11  investor_state_code     3884 non-null   object \n",
            " 12  investor_region         5000 non-null   object \n",
            " 13  investor_city           4566 non-null   object \n",
            " 14  funding_round_type      5000 non-null   object \n",
            " 15  funded_at               5000 non-null   object \n",
            " 16  funded_month            5000 non-null   object \n",
            " 17  funded_quarter          5000 non-null   object \n",
            " 18  funded_year             5000 non-null   int64  \n",
            " 19  raised_amount_usd       4757 non-null   float64\n",
            "dtypes: float64(2), int64(1), object(17)\n",
            "memory usage: 781.4+ KB\n",
            "None\n",
            "<class 'pandas.core.frame.DataFrame'>\n",
            "RangeIndex: 5000 entries, 25000 to 29999\n",
            "Data columns (total 20 columns):\n",
            " #   Column                  Non-Null Count  Dtype  \n",
            "---  ------                  --------------  -----  \n",
            " 0   company_permalink       5000 non-null   object \n",
            " 1   company_name            5000 non-null   object \n",
            " 2   company_category_code   4939 non-null   object \n",
            " 3   company_country_code    5000 non-null   object \n",
            " 4   company_state_code      4961 non-null   object \n",
            " 5   company_region          5000 non-null   object \n",
            " 6   company_city            4967 non-null   object \n",
            " 7   investor_permalink      5000 non-null   object \n",
            " 8   investor_name           5000 non-null   object \n",
            " 9   investor_category_code  0 non-null      float64\n",
            " 10  investor_country_code   4782 non-null   object \n",
            " 11  investor_state_code     4268 non-null   object \n",
            " 12  investor_region         5000 non-null   object \n",
            " 13  investor_city           4762 non-null   object \n",
            " 14  funding_round_type      5000 non-null   object \n",
            " 15  funded_at               5000 non-null   object \n",
            " 16  funded_month            5000 non-null   object \n",
            " 17  funded_quarter          5000 non-null   object \n",
            " 18  funded_year             5000 non-null   int64  \n",
            " 19  raised_amount_usd       4794 non-null   float64\n",
            "dtypes: float64(2), int64(1), object(17)\n",
            "memory usage: 781.4+ KB\n",
            "None\n",
            "<class 'pandas.core.frame.DataFrame'>\n",
            "RangeIndex: 5000 entries, 30000 to 34999\n",
            "Data columns (total 20 columns):\n",
            " #   Column                  Non-Null Count  Dtype  \n",
            "---  ------                  --------------  -----  \n",
            " 0   company_permalink       4999 non-null   object \n",
            " 1   company_name            4999 non-null   object \n",
            " 2   company_category_code   4912 non-null   object \n",
            " 3   company_country_code    4999 non-null   object \n",
            " 4   company_state_code      4965 non-null   object \n",
            " 5   company_region          4999 non-null   object \n",
            " 6   company_city            4958 non-null   object \n",
            " 7   investor_permalink      4998 non-null   object \n",
            " 8   investor_name           4998 non-null   object \n",
            " 9   investor_category_code  0 non-null      float64\n",
            " 10  investor_country_code   4687 non-null   object \n",
            " 11  investor_state_code     4078 non-null   object \n",
            " 12  investor_region         4998 non-null   object \n",
            " 13  investor_city           4661 non-null   object \n",
            " 14  funding_round_type      4997 non-null   object \n",
            " 15  funded_at               4997 non-null   object \n",
            " 16  funded_month            4997 non-null   object \n",
            " 17  funded_quarter          4997 non-null   object \n",
            " 18  funded_year             4997 non-null   float64\n",
            " 19  raised_amount_usd       4713 non-null   float64\n",
            "dtypes: float64(3), object(17)\n",
            "memory usage: 781.4+ KB\n",
            "None\n",
            "<class 'pandas.core.frame.DataFrame'>\n",
            "RangeIndex: 5000 entries, 35000 to 39999\n",
            "Data columns (total 20 columns):\n",
            " #   Column                  Non-Null Count  Dtype  \n",
            "---  ------                  --------------  -----  \n",
            " 0   company_permalink       5000 non-null   object \n",
            " 1   company_name            5000 non-null   object \n",
            " 2   company_category_code   4917 non-null   object \n",
            " 3   company_country_code    5000 non-null   object \n",
            " 4   company_state_code      4935 non-null   object \n",
            " 5   company_region          5000 non-null   object \n",
            " 6   company_city            4945 non-null   object \n",
            " 7   investor_permalink      5000 non-null   object \n",
            " 8   investor_name           5000 non-null   object \n",
            " 9   investor_category_code  0 non-null      float64\n",
            " 10  investor_country_code   4733 non-null   object \n",
            " 11  investor_state_code     4225 non-null   object \n",
            " 12  investor_region         5000 non-null   object \n",
            " 13  investor_city           4666 non-null   object \n",
            " 14  funding_round_type      5000 non-null   object \n",
            " 15  funded_at               5000 non-null   object \n",
            " 16  funded_month            5000 non-null   object \n",
            " 17  funded_quarter          5000 non-null   object \n",
            " 18  funded_year             5000 non-null   int64  \n",
            " 19  raised_amount_usd       4632 non-null   float64\n",
            "dtypes: float64(2), int64(1), object(17)\n",
            "memory usage: 781.4+ KB\n",
            "None\n",
            "<class 'pandas.core.frame.DataFrame'>\n",
            "RangeIndex: 5000 entries, 40000 to 44999\n",
            "Data columns (total 20 columns):\n",
            " #   Column                  Non-Null Count  Dtype  \n",
            "---  ------                  --------------  -----  \n",
            " 0   company_permalink       5000 non-null   object \n",
            " 1   company_name            5000 non-null   object \n",
            " 2   company_category_code   4925 non-null   object \n",
            " 3   company_country_code    5000 non-null   object \n",
            " 4   company_state_code      4950 non-null   object \n",
            " 5   company_region          5000 non-null   object \n",
            " 6   company_city            4950 non-null   object \n",
            " 7   investor_permalink      5000 non-null   object \n",
            " 8   investor_name           5000 non-null   object \n",
            " 9   investor_category_code  0 non-null      float64\n",
            " 10  investor_country_code   3568 non-null   object \n",
            " 11  investor_state_code     3213 non-null   object \n",
            " 12  investor_region         5000 non-null   object \n",
            " 13  investor_city           3536 non-null   object \n",
            " 14  funding_round_type      5000 non-null   object \n",
            " 15  funded_at               5000 non-null   object \n",
            " 16  funded_month            5000 non-null   object \n",
            " 17  funded_quarter          5000 non-null   object \n",
            " 18  funded_year             5000 non-null   int64  \n",
            " 19  raised_amount_usd       4676 non-null   float64\n",
            "dtypes: float64(2), int64(1), object(17)\n",
            "memory usage: 781.4+ KB\n",
            "None\n",
            "<class 'pandas.core.frame.DataFrame'>\n",
            "RangeIndex: 5000 entries, 45000 to 49999\n",
            "Data columns (total 20 columns):\n",
            " #   Column                  Non-Null Count  Dtype  \n",
            "---  ------                  --------------  -----  \n",
            " 0   company_permalink       5000 non-null   object \n",
            " 1   company_name            5000 non-null   object \n",
            " 2   company_category_code   4985 non-null   object \n",
            " 3   company_country_code    5000 non-null   object \n",
            " 4   company_state_code      4954 non-null   object \n",
            " 5   company_region          5000 non-null   object \n",
            " 6   company_city            4930 non-null   object \n",
            " 7   investor_permalink      5000 non-null   object \n",
            " 8   investor_name           5000 non-null   object \n",
            " 9   investor_category_code  0 non-null      float64\n",
            " 10  investor_country_code   0 non-null      float64\n",
            " 11  investor_state_code     0 non-null      float64\n",
            " 12  investor_region         5000 non-null   object \n",
            " 13  investor_city           0 non-null      float64\n",
            " 14  funding_round_type      5000 non-null   object \n",
            " 15  funded_at               5000 non-null   object \n",
            " 16  funded_month            5000 non-null   object \n",
            " 17  funded_quarter          5000 non-null   object \n",
            " 18  funded_year             5000 non-null   int64  \n",
            " 19  raised_amount_usd       4531 non-null   float64\n",
            "dtypes: float64(5), int64(1), object(14)\n",
            "memory usage: 781.4+ KB\n",
            "None\n",
            "<class 'pandas.core.frame.DataFrame'>\n",
            "RangeIndex: 2870 entries, 50000 to 52869\n",
            "Data columns (total 20 columns):\n",
            " #   Column                  Non-Null Count  Dtype  \n",
            "---  ------                  --------------  -----  \n",
            " 0   company_permalink       2870 non-null   object \n",
            " 1   company_name            2870 non-null   object \n",
            " 2   company_category_code   2860 non-null   object \n",
            " 3   company_country_code    2870 non-null   object \n",
            " 4   company_state_code      2841 non-null   object \n",
            " 5   company_region          2870 non-null   object \n",
            " 6   company_city            2825 non-null   object \n",
            " 7   investor_permalink      2870 non-null   object \n",
            " 8   investor_name           2870 non-null   object \n",
            " 9   investor_category_code  0 non-null      float64\n",
            " 10  investor_country_code   0 non-null      float64\n",
            " 11  investor_state_code     0 non-null      float64\n",
            " 12  investor_region         2870 non-null   object \n",
            " 13  investor_city           0 non-null      float64\n",
            " 14  funding_round_type      2870 non-null   object \n",
            " 15  funded_at               2870 non-null   object \n",
            " 16  funded_month            2870 non-null   object \n",
            " 17  funded_quarter          2870 non-null   object \n",
            " 18  funded_year             2870 non-null   int64  \n",
            " 19  raised_amount_usd       2580 non-null   float64\n",
            "dtypes: float64(5), int64(1), object(14)\n",
            "memory usage: 448.6+ KB\n",
            "None\n"
          ]
        }
      ]
    },
    {
      "cell_type": "markdown",
      "source": [
        "## Observation:\n",
        "investor_category_code have a lot of null values and can be dropped in this data .\n",
        "\n",
        "the aim of the data is raised amount, and so, all null values of raised_amount_usd should be deleted"
      ],
      "metadata": {
        "id": "GXLPCMIXc5PS"
      }
    },
    {
      "cell_type": "code",
      "source": [
        "chrunch_iter = pd.read_csv(\"https://bit.ly/3BPcobU\",encoding = 'unicode_escape', chunksize=5000)\n",
        "for chunk in chrunch_iter:\n",
        "    #drop rows where raised amount is null\n",
        "  chunk = chunk.dropna(subset=['raised_amount_usd'])\n",
        "  #drop colulmn investor_category_code\n",
        "  chunk.drop(['investor_category_code'], axis=1)\n",
        "  #calcualting memeory usage per chunk  \n",
        "  print(chunk.info())"
      ],
      "metadata": {
        "colab": {
          "base_uri": "https://localhost:8080/"
        },
        "id": "ebMLx0NErSYb",
        "outputId": "eb05d305-63fc-4b4f-f6e6-5be2e30298ca"
      },
      "execution_count": 8,
      "outputs": [
        {
          "output_type": "stream",
          "name": "stdout",
          "text": [
            "<class 'pandas.core.frame.DataFrame'>\n",
            "Int64Index: 4347 entries, 0 to 4999\n",
            "Data columns (total 20 columns):\n",
            " #   Column                  Non-Null Count  Dtype  \n",
            "---  ------                  --------------  -----  \n",
            " 0   company_permalink       4347 non-null   object \n",
            " 1   company_name            4347 non-null   object \n",
            " 2   company_category_code   4302 non-null   object \n",
            " 3   company_country_code    4347 non-null   object \n",
            " 4   company_state_code      4306 non-null   object \n",
            " 5   company_region          4347 non-null   object \n",
            " 6   company_city            4301 non-null   object \n",
            " 7   investor_permalink      4347 non-null   object \n",
            " 8   investor_name           4347 non-null   object \n",
            " 9   investor_category_code  1973 non-null   object \n",
            " 10  investor_country_code   3644 non-null   object \n",
            " 11  investor_state_code     3103 non-null   object \n",
            " 12  investor_region         4347 non-null   object \n",
            " 13  investor_city           3533 non-null   object \n",
            " 14  funding_round_type      4347 non-null   object \n",
            " 15  funded_at               4347 non-null   object \n",
            " 16  funded_month            4347 non-null   object \n",
            " 17  funded_quarter          4347 non-null   object \n",
            " 18  funded_year             4347 non-null   int64  \n",
            " 19  raised_amount_usd       4347 non-null   float64\n",
            "dtypes: float64(1), int64(1), object(18)\n",
            "memory usage: 713.2+ KB\n",
            "None\n",
            "<class 'pandas.core.frame.DataFrame'>\n",
            "Int64Index: 4761 entries, 5000 to 9999\n",
            "Data columns (total 20 columns):\n",
            " #   Column                  Non-Null Count  Dtype  \n",
            "---  ------                  --------------  -----  \n",
            " 0   company_permalink       4761 non-null   object \n",
            " 1   company_name            4761 non-null   object \n",
            " 2   company_category_code   4718 non-null   object \n",
            " 3   company_country_code    4761 non-null   object \n",
            " 4   company_state_code      4720 non-null   object \n",
            " 5   company_region          4761 non-null   object \n",
            " 6   company_city            4719 non-null   object \n",
            " 7   investor_permalink      4761 non-null   object \n",
            " 8   investor_name           4761 non-null   object \n",
            " 9   investor_category_code  0 non-null      float64\n",
            " 10  investor_country_code   4526 non-null   object \n",
            " 11  investor_state_code     4110 non-null   object \n",
            " 12  investor_region         4761 non-null   object \n",
            " 13  investor_city           4476 non-null   object \n",
            " 14  funding_round_type      4761 non-null   object \n",
            " 15  funded_at               4761 non-null   object \n",
            " 16  funded_month            4761 non-null   object \n",
            " 17  funded_quarter          4761 non-null   object \n",
            " 18  funded_year             4761 non-null   int64  \n",
            " 19  raised_amount_usd       4761 non-null   float64\n",
            "dtypes: float64(2), int64(1), object(17)\n",
            "memory usage: 781.1+ KB\n",
            "None\n",
            "<class 'pandas.core.frame.DataFrame'>\n",
            "Int64Index: 4779 entries, 10000 to 14999\n",
            "Data columns (total 20 columns):\n",
            " #   Column                  Non-Null Count  Dtype  \n",
            "---  ------                  --------------  -----  \n",
            " 0   company_permalink       4779 non-null   object \n",
            " 1   company_name            4779 non-null   object \n",
            " 2   company_category_code   4699 non-null   object \n",
            " 3   company_country_code    4779 non-null   object \n",
            " 4   company_state_code      4730 non-null   object \n",
            " 5   company_region          4779 non-null   object \n",
            " 6   company_city            4740 non-null   object \n",
            " 7   investor_permalink      4779 non-null   object \n",
            " 8   investor_name           4779 non-null   object \n",
            " 9   investor_category_code  0 non-null      float64\n",
            " 10  investor_country_code   4524 non-null   object \n",
            " 11  investor_state_code     3999 non-null   object \n",
            " 12  investor_region         4779 non-null   object \n",
            " 13  investor_city           4483 non-null   object \n",
            " 14  funding_round_type      4779 non-null   object \n",
            " 15  funded_at               4779 non-null   object \n",
            " 16  funded_month            4779 non-null   object \n",
            " 17  funded_quarter          4779 non-null   object \n",
            " 18  funded_year             4779 non-null   int64  \n",
            " 19  raised_amount_usd       4779 non-null   float64\n",
            "dtypes: float64(2), int64(1), object(17)\n",
            "memory usage: 784.1+ KB\n",
            "None\n",
            "<class 'pandas.core.frame.DataFrame'>\n",
            "Int64Index: 4701 entries, 15000 to 19999\n",
            "Data columns (total 20 columns):\n",
            " #   Column                  Non-Null Count  Dtype  \n",
            "---  ------                  --------------  -----  \n",
            " 0   company_permalink       4701 non-null   object \n",
            " 1   company_name            4701 non-null   object \n",
            " 2   company_category_code   4652 non-null   object \n",
            " 3   company_country_code    4701 non-null   object \n",
            " 4   company_state_code      4666 non-null   object \n",
            " 5   company_region          4701 non-null   object \n",
            " 6   company_city            4660 non-null   object \n",
            " 7   investor_permalink      4701 non-null   object \n",
            " 8   investor_name           4701 non-null   object \n",
            " 9   investor_category_code  0 non-null      float64\n",
            " 10  investor_country_code   4484 non-null   object \n",
            " 11  investor_state_code     4030 non-null   object \n",
            " 12  investor_region         4701 non-null   object \n",
            " 13  investor_city           4454 non-null   object \n",
            " 14  funding_round_type      4701 non-null   object \n",
            " 15  funded_at               4701 non-null   object \n",
            " 16  funded_month            4701 non-null   object \n",
            " 17  funded_quarter          4701 non-null   object \n",
            " 18  funded_year             4701 non-null   int64  \n",
            " 19  raised_amount_usd       4701 non-null   float64\n",
            "dtypes: float64(2), int64(1), object(17)\n",
            "memory usage: 771.3+ KB\n",
            "None\n",
            "<class 'pandas.core.frame.DataFrame'>\n",
            "Int64Index: 4757 entries, 20000 to 24999\n",
            "Data columns (total 20 columns):\n",
            " #   Column                  Non-Null Count  Dtype  \n",
            "---  ------                  --------------  -----  \n",
            " 0   company_permalink       4757 non-null   object \n",
            " 1   company_name            4757 non-null   object \n",
            " 2   company_category_code   4689 non-null   object \n",
            " 3   company_country_code    4757 non-null   object \n",
            " 4   company_state_code      4723 non-null   object \n",
            " 5   company_region          4757 non-null   object \n",
            " 6   company_city            4722 non-null   object \n",
            " 7   investor_permalink      4757 non-null   object \n",
            " 8   investor_name           4757 non-null   object \n",
            " 9   investor_category_code  0 non-null      float64\n",
            " 10  investor_country_code   4427 non-null   object \n",
            " 11  investor_state_code     3704 non-null   object \n",
            " 12  investor_region         4757 non-null   object \n",
            " 13  investor_city           4347 non-null   object \n",
            " 14  funding_round_type      4757 non-null   object \n",
            " 15  funded_at               4757 non-null   object \n",
            " 16  funded_month            4757 non-null   object \n",
            " 17  funded_quarter          4757 non-null   object \n",
            " 18  funded_year             4757 non-null   int64  \n",
            " 19  raised_amount_usd       4757 non-null   float64\n",
            "dtypes: float64(2), int64(1), object(17)\n",
            "memory usage: 780.4+ KB\n",
            "None\n",
            "<class 'pandas.core.frame.DataFrame'>\n",
            "Int64Index: 4794 entries, 25000 to 29999\n",
            "Data columns (total 20 columns):\n",
            " #   Column                  Non-Null Count  Dtype  \n",
            "---  ------                  --------------  -----  \n",
            " 0   company_permalink       4794 non-null   object \n",
            " 1   company_name            4794 non-null   object \n",
            " 2   company_category_code   4738 non-null   object \n",
            " 3   company_country_code    4794 non-null   object \n",
            " 4   company_state_code      4756 non-null   object \n",
            " 5   company_region          4794 non-null   object \n",
            " 6   company_city            4764 non-null   object \n",
            " 7   investor_permalink      4794 non-null   object \n",
            " 8   investor_name           4794 non-null   object \n",
            " 9   investor_category_code  0 non-null      float64\n",
            " 10  investor_country_code   4593 non-null   object \n",
            " 11  investor_state_code     4102 non-null   object \n",
            " 12  investor_region         4794 non-null   object \n",
            " 13  investor_city           4575 non-null   object \n",
            " 14  funding_round_type      4794 non-null   object \n",
            " 15  funded_at               4794 non-null   object \n",
            " 16  funded_month            4794 non-null   object \n",
            " 17  funded_quarter          4794 non-null   object \n",
            " 18  funded_year             4794 non-null   int64  \n",
            " 19  raised_amount_usd       4794 non-null   float64\n",
            "dtypes: float64(2), int64(1), object(17)\n",
            "memory usage: 786.5+ KB\n",
            "None\n",
            "<class 'pandas.core.frame.DataFrame'>\n",
            "Int64Index: 4713 entries, 30000 to 34999\n",
            "Data columns (total 20 columns):\n",
            " #   Column                  Non-Null Count  Dtype  \n",
            "---  ------                  --------------  -----  \n",
            " 0   company_permalink       4713 non-null   object \n",
            " 1   company_name            4713 non-null   object \n",
            " 2   company_category_code   4634 non-null   object \n",
            " 3   company_country_code    4713 non-null   object \n",
            " 4   company_state_code      4687 non-null   object \n",
            " 5   company_region          4713 non-null   object \n",
            " 6   company_city            4678 non-null   object \n",
            " 7   investor_permalink      4713 non-null   object \n",
            " 8   investor_name           4713 non-null   object \n",
            " 9   investor_category_code  0 non-null      float64\n",
            " 10  investor_country_code   4424 non-null   object \n",
            " 11  investor_state_code     3841 non-null   object \n",
            " 12  investor_region         4713 non-null   object \n",
            " 13  investor_city           4400 non-null   object \n",
            " 14  funding_round_type      4713 non-null   object \n",
            " 15  funded_at               4713 non-null   object \n",
            " 16  funded_month            4713 non-null   object \n",
            " 17  funded_quarter          4713 non-null   object \n",
            " 18  funded_year             4713 non-null   float64\n",
            " 19  raised_amount_usd       4713 non-null   float64\n",
            "dtypes: float64(3), object(17)\n",
            "memory usage: 773.2+ KB\n",
            "None\n",
            "<class 'pandas.core.frame.DataFrame'>\n",
            "Int64Index: 4632 entries, 35000 to 39999\n",
            "Data columns (total 20 columns):\n",
            " #   Column                  Non-Null Count  Dtype  \n",
            "---  ------                  --------------  -----  \n",
            " 0   company_permalink       4632 non-null   object \n",
            " 1   company_name            4632 non-null   object \n",
            " 2   company_category_code   4563 non-null   object \n",
            " 3   company_country_code    4632 non-null   object \n",
            " 4   company_state_code      4574 non-null   object \n",
            " 5   company_region          4632 non-null   object \n",
            " 6   company_city            4585 non-null   object \n",
            " 7   investor_permalink      4632 non-null   object \n",
            " 8   investor_name           4632 non-null   object \n",
            " 9   investor_category_code  0 non-null      float64\n",
            " 10  investor_country_code   4387 non-null   object \n",
            " 11  investor_state_code     3902 non-null   object \n",
            " 12  investor_region         4632 non-null   object \n",
            " 13  investor_city           4322 non-null   object \n",
            " 14  funding_round_type      4632 non-null   object \n",
            " 15  funded_at               4632 non-null   object \n",
            " 16  funded_month            4632 non-null   object \n",
            " 17  funded_quarter          4632 non-null   object \n",
            " 18  funded_year             4632 non-null   int64  \n",
            " 19  raised_amount_usd       4632 non-null   float64\n",
            "dtypes: float64(2), int64(1), object(17)\n",
            "memory usage: 759.9+ KB\n",
            "None\n",
            "<class 'pandas.core.frame.DataFrame'>\n",
            "Int64Index: 4676 entries, 40000 to 44999\n",
            "Data columns (total 20 columns):\n",
            " #   Column                  Non-Null Count  Dtype  \n",
            "---  ------                  --------------  -----  \n",
            " 0   company_permalink       4676 non-null   object \n",
            " 1   company_name            4676 non-null   object \n",
            " 2   company_category_code   4613 non-null   object \n",
            " 3   company_country_code    4676 non-null   object \n",
            " 4   company_state_code      4628 non-null   object \n",
            " 5   company_region          4676 non-null   object \n",
            " 6   company_city            4628 non-null   object \n",
            " 7   investor_permalink      4676 non-null   object \n",
            " 8   investor_name           4676 non-null   object \n",
            " 9   investor_category_code  0 non-null      float64\n",
            " 10  investor_country_code   3392 non-null   object \n",
            " 11  investor_state_code     3055 non-null   object \n",
            " 12  investor_region         4676 non-null   object \n",
            " 13  investor_city           3362 non-null   object \n",
            " 14  funding_round_type      4676 non-null   object \n",
            " 15  funded_at               4676 non-null   object \n",
            " 16  funded_month            4676 non-null   object \n",
            " 17  funded_quarter          4676 non-null   object \n",
            " 18  funded_year             4676 non-null   int64  \n",
            " 19  raised_amount_usd       4676 non-null   float64\n",
            "dtypes: float64(2), int64(1), object(17)\n",
            "memory usage: 767.2+ KB\n",
            "None\n",
            "<class 'pandas.core.frame.DataFrame'>\n",
            "Int64Index: 4531 entries, 45000 to 49999\n",
            "Data columns (total 20 columns):\n",
            " #   Column                  Non-Null Count  Dtype  \n",
            "---  ------                  --------------  -----  \n",
            " 0   company_permalink       4531 non-null   object \n",
            " 1   company_name            4531 non-null   object \n",
            " 2   company_category_code   4520 non-null   object \n",
            " 3   company_country_code    4531 non-null   object \n",
            " 4   company_state_code      4486 non-null   object \n",
            " 5   company_region          4531 non-null   object \n",
            " 6   company_city            4466 non-null   object \n",
            " 7   investor_permalink      4531 non-null   object \n",
            " 8   investor_name           4531 non-null   object \n",
            " 9   investor_category_code  0 non-null      float64\n",
            " 10  investor_country_code   0 non-null      float64\n",
            " 11  investor_state_code     0 non-null      float64\n",
            " 12  investor_region         4531 non-null   object \n",
            " 13  investor_city           0 non-null      float64\n",
            " 14  funding_round_type      4531 non-null   object \n",
            " 15  funded_at               4531 non-null   object \n",
            " 16  funded_month            4531 non-null   object \n",
            " 17  funded_quarter          4531 non-null   object \n",
            " 18  funded_year             4531 non-null   int64  \n",
            " 19  raised_amount_usd       4531 non-null   float64\n",
            "dtypes: float64(5), int64(1), object(14)\n",
            "memory usage: 743.4+ KB\n",
            "None\n",
            "<class 'pandas.core.frame.DataFrame'>\n",
            "Int64Index: 2580 entries, 50000 to 52869\n",
            "Data columns (total 20 columns):\n",
            " #   Column                  Non-Null Count  Dtype  \n",
            "---  ------                  --------------  -----  \n",
            " 0   company_permalink       2580 non-null   object \n",
            " 1   company_name            2580 non-null   object \n",
            " 2   company_category_code   2572 non-null   object \n",
            " 3   company_country_code    2580 non-null   object \n",
            " 4   company_state_code      2555 non-null   object \n",
            " 5   company_region          2580 non-null   object \n",
            " 6   company_city            2540 non-null   object \n",
            " 7   investor_permalink      2580 non-null   object \n",
            " 8   investor_name           2580 non-null   object \n",
            " 9   investor_category_code  0 non-null      float64\n",
            " 10  investor_country_code   0 non-null      float64\n",
            " 11  investor_state_code     0 non-null      float64\n",
            " 12  investor_region         2580 non-null   object \n",
            " 13  investor_city           0 non-null      float64\n",
            " 14  funding_round_type      2580 non-null   object \n",
            " 15  funded_at               2580 non-null   object \n",
            " 16  funded_month            2580 non-null   object \n",
            " 17  funded_quarter          2580 non-null   object \n",
            " 18  funded_year             2580 non-null   int64  \n",
            " 19  raised_amount_usd       2580 non-null   float64\n",
            "dtypes: float64(5), int64(1), object(14)\n",
            "memory usage: 423.3+ KB\n",
            "None\n"
          ]
        }
      ]
    },
    {
      "cell_type": "code",
      "source": [
        "# deleting the above unnecessary data\n",
        "for chunk in chrunch_iter:\n",
        " \n",
        "   #drop rows where raised amount is null\n",
        "  chunk = chunk.dropna(subset=['raised_amount_usd'])\n",
        "  #drop colulmn investor_category_code\n",
        "  chunk.drop(['investor_category_code'], axis=1)\n",
        "  #calcualting memeory usage per chunk  \n",
        "  print(chunk.info())\n"
      ],
      "metadata": {
        "id": "y2slvMm9pu4V"
      },
      "execution_count": 9,
      "outputs": []
    },
    {
      "cell_type": "markdown",
      "metadata": {
        "id": "NOEk3_YPdg6p"
      },
      "source": [
        "## Question 2: Selecting Data Types"
      ]
    },
    {
      "cell_type": "markdown",
      "metadata": {
        "id": "FD1IqmzhcEd3"
      },
      "source": [
        "Now that we have a good sense of the missing values, let's get familiar with the column types before adding the data into SQLite.\n",
        "\n",
        "**Tasks**\n",
        "\n",
        "* Identify the types for each column.\n",
        "* Identify the numeric columns we can represent using more space efficient types.\n",
        "For text columns:\n",
        "* Analyze the unique value counts across all of the chunks to see if we can convert them to a numeric type.\n",
        "* See if we clean clean any text columns and separate them into multiple numeric columns without adding any overhead when querying.\n",
        "* Make your changes to the code from the last step so that the overall memory the data consumes stays under 10 megabytes.\n"
      ]
    },
    {
      "cell_type": "code",
      "metadata": {
        "id": "QNgzuiStZ3WN",
        "colab": {
          "base_uri": "https://localhost:8080/"
        },
        "outputId": "5015ef79-ecea-4ec2-a340-293f62cfb7e3"
      },
      "source": [
        "# converting objects with less than 0.5 unique values into category\n",
        "for col in chunk.select_dtypes(include=['object']):\n",
        "    num_unique_values = len(chunk[col].unique())\n",
        "    num_total_values = len(chunk[col])\n",
        "    if num_unique_values / num_total_values < 0.5:\n",
        "        chunk[col] = chunk[col].astype('category')\n",
        "        \n",
        "print(chunk.info(memory_usage='deep'))"
      ],
      "execution_count": 10,
      "outputs": [
        {
          "output_type": "stream",
          "name": "stdout",
          "text": [
            "<class 'pandas.core.frame.DataFrame'>\n",
            "Int64Index: 2580 entries, 50000 to 52869\n",
            "Data columns (total 20 columns):\n",
            " #   Column                  Non-Null Count  Dtype   \n",
            "---  ------                  --------------  -----   \n",
            " 0   company_permalink       2580 non-null   object  \n",
            " 1   company_name            2580 non-null   object  \n",
            " 2   company_category_code   2572 non-null   category\n",
            " 3   company_country_code    2580 non-null   category\n",
            " 4   company_state_code      2555 non-null   category\n",
            " 5   company_region          2580 non-null   category\n",
            " 6   company_city            2540 non-null   category\n",
            " 7   investor_permalink      2580 non-null   category\n",
            " 8   investor_name           2580 non-null   category\n",
            " 9   investor_category_code  0 non-null      float64 \n",
            " 10  investor_country_code   0 non-null      float64 \n",
            " 11  investor_state_code     0 non-null      float64 \n",
            " 12  investor_region         2580 non-null   category\n",
            " 13  investor_city           0 non-null      float64 \n",
            " 14  funding_round_type      2580 non-null   category\n",
            " 15  funded_at               2580 non-null   category\n",
            " 16  funded_month            2580 non-null   category\n",
            " 17  funded_quarter          2580 non-null   category\n",
            " 18  funded_year             2580 non-null   int64   \n",
            " 19  raised_amount_usd       2580 non-null   float64 \n",
            "dtypes: category(12), float64(5), int64(1), object(2)\n",
            "memory usage: 924.0 KB\n",
            "None\n"
          ]
        }
      ]
    },
    {
      "cell_type": "code",
      "source": [
        "float_chunk = chunk.select_dtypes(include=['float64'])\n",
        "print(float_chunk.isnull().sum())"
      ],
      "metadata": {
        "colab": {
          "base_uri": "https://localhost:8080/"
        },
        "id": "VInkQ9Qjoi2H",
        "outputId": "93c6fb61-e8c7-4e07-d6f8-e0393de23cf7"
      },
      "execution_count": 11,
      "outputs": [
        {
          "output_type": "stream",
          "name": "stdout",
          "text": [
            "investor_category_code    2580\n",
            "investor_country_code     2580\n",
            "investor_state_code       2580\n",
            "investor_city             2580\n",
            "raised_amount_usd            0\n",
            "dtype: int64\n"
          ]
        }
      ]
    },
    {
      "cell_type": "markdown",
      "metadata": {
        "id": "OA2D7o4sds1t"
      },
      "source": [
        "## Question 3: Loading Chunks Into SQLite"
      ]
    },
    {
      "cell_type": "markdown",
      "metadata": {
        "id": "ptu8Xr25dvcF"
      },
      "source": [
        "Now we're in good shape to start exploring and analyzing the data. The next step is to load each chunk into a table in a SQLite database so we can query the full data set.\n",
        "\n",
        "**Tasks**\n",
        "\n",
        "1. Create and connect to a new SQLite database file.\n",
        "2. Expand on the existing chunk processing code to export each chunk to a new table in the SQLite database.\n",
        "3. Query the table and make sure the data types match up to what you had in mind for each column."
      ]
    },
    {
      "cell_type": "code",
      "metadata": {
        "id": "QH-j6fuXdu0v",
        "colab": {
          "base_uri": "https://localhost:8080/"
        },
        "outputId": "bb482f05-f586-44f9-fcb1-09d6b24aba3e"
      },
      "source": [
        "# Your code goes here\n",
        "\n",
        "import sqlite3\n",
        "\n",
        "#create new database chrunch \n",
        "conn = sqlite3.connect('chrunch.db')\n",
        "for chunk in chrunch_iter:\n",
        "#export the chunk data to the sqlite and call it lenders\n",
        "  chunk.to_sql(\"lenders\", conn, if_exists='append', index=False)\n",
        "\n",
        "#querry table \n",
        "\n",
        "new_df = pd.read_sql('PRAGMA table_info(lenders);', conn)\n",
        "print(new_df)\n"
      ],
      "execution_count": 14,
      "outputs": [
        {
          "output_type": "stream",
          "name": "stdout",
          "text": [
            "    cid                    name     type  notnull dflt_value  pk\n",
            "0     0       company_permalink     TEXT        0       None   0\n",
            "1     1            company_name     TEXT        0       None   0\n",
            "2     2   company_category_code     TEXT        0       None   0\n",
            "3     3    company_country_code     TEXT        0       None   0\n",
            "4     4      company_state_code     TEXT        0       None   0\n",
            "5     5          company_region     TEXT        0       None   0\n",
            "6     6            company_city     TEXT        0       None   0\n",
            "7     7      investor_permalink     TEXT        0       None   0\n",
            "8     8           investor_name     TEXT        0       None   0\n",
            "9     9  investor_category_code     REAL        0       None   0\n",
            "10   10   investor_country_code     REAL        0       None   0\n",
            "11   11     investor_state_code     REAL        0       None   0\n",
            "12   12         investor_region     TEXT        0       None   0\n",
            "13   13           investor_city     REAL        0       None   0\n",
            "14   14      funding_round_type     TEXT        0       None   0\n",
            "15   15               funded_at     TEXT        0       None   0\n",
            "16   16            funded_month     TEXT        0       None   0\n",
            "17   17          funded_quarter     TEXT        0       None   0\n",
            "18   18             funded_year  INTEGER        0       None   0\n",
            "19   19       raised_amount_usd     REAL        0       None   0\n"
          ]
        }
      ]
    },
    {
      "cell_type": "markdown",
      "metadata": {
        "id": "Rt1jPEhseD8r"
      },
      "source": [
        "## Question 4: Next Steps"
      ]
    },
    {
      "cell_type": "markdown",
      "metadata": {
        "id": "Ggt-hEebeJGr"
      },
      "source": [
        "Now that the data is in SQLite, we can use the pandas SQLite workflow we learned in the last lesson to explore and analyze startup investments. Remember that each row isn't a unique company, but a unique investment from a single investor. This means that many startups will span multiple rows.\n",
        "\n",
        "Use the pandas SQLite workflow to answer the following questions:\n",
        "\n",
        "* What proportion of the total amount of funds did the top 10% raise? What about the top 1%? Compare these values to the proportions the bottom 10% and bottom 1% raised.\n",
        "* Which category of company attracted the most investments?\n",
        "* Which investor contributed the most money (across all startups)?\n",
        "* Which investors contributed the most money per startup?\n",
        "* Which funding round was the most popular? Which was the least popular?\n",
        "\n",
        "Here are some ideas for further exploration:\n",
        "\n",
        "* Repeat the tasks in this project using stricter memory constraints (under 1 megabyte).\n",
        "* Clean and analyze the other Crunchbase data sets from the same GitHub repo.\n",
        "* Understand which columns the data sets share, and how the data sets are linked.\n",
        "* Create a relational database design that links the data sets together and reduces the overall disk space the database file consumes.\n",
        "\n",
        "Use pandas to populate each table in the database, create the appropriate indexes, and so on."
      ]
    },
    {
      "cell_type": "code",
      "metadata": {
        "id": "FJo2f7N-ebgX",
        "colab": {
          "base_uri": "https://localhost:8080/"
        },
        "outputId": "ac5a92cf-1833-48e0-9451-151a25ca5a9d"
      },
      "source": [
        "# Your code goes here\n",
        "\n",
        "#q = 'select exhibitionid, count(*) as counts from exhibitions group by exhibitionid order by counts desc;'\n",
        "#eid_counts = pd.read_sql(q, conn)\n",
        "#print(eid_counts[:10])\n",
        "\n",
        "# Which category of company attracted the most investments?\n",
        "c = 'select company_name,  count(*) as counts  from lenders group by  investor_name order by counts desc;'\n",
        "company_name = pd.read_sql(c, conn)\n",
        "print(company_name[:10])\n",
        "\n"
      ],
      "execution_count": 32,
      "outputs": [
        {
          "output_type": "stream",
          "name": "stdout",
          "text": [
            "  company_name  counts\n",
            "0      Aisle50      94\n",
            "1         Shyp      55\n",
            "2    Remind101      48\n",
            "3      LE TOTE      46\n",
            "4      Swipely      43\n",
            "5      Declara      37\n",
            "6     Estimote      31\n",
            "7      Uncovet      30\n",
            "8      Koality      29\n",
            "9       Vungle      28\n"
          ]
        }
      ]
    },
    {
      "cell_type": "markdown",
      "source": [
        "Aisle50 attracted the most investments"
      ],
      "metadata": {
        "id": "nZYcF5mgife0"
      }
    },
    {
      "cell_type": "code",
      "source": [
        "#Which investor contributed the most money (across all startups)?\n",
        "d = 'select investor_name, sum(raised_amount_usd) as sum from lenders group by investor_name order by sum desc;'\n",
        "investment_amount = pd.read_sql(d, conn)\n",
        "print(investment_amount[:10])"
      ],
      "metadata": {
        "colab": {
          "base_uri": "https://localhost:8080/"
        },
        "id": "l_LK--LEYkrU",
        "outputId": "653e2567-3538-409a-9e4b-2276259f2a74"
      },
      "execution_count": 36,
      "outputs": [
        {
          "output_type": "stream",
          "name": "stdout",
          "text": [
            "    investor_name          sum\n",
            "0     Peter Thiel  538150000.0\n",
            "1      Ron Conway  374544911.0\n",
            "2  Scott Banister  231965000.0\n",
            "3     Yuri Milner  207250000.0\n",
            "4     Ted Leonsis  193050000.0\n",
            "5    Reid Hoffman  191960000.0\n",
            "6  Randal J. Kirk  150000000.0\n",
            "7  Timothy Draper  144902000.0\n",
            "8  Naval Ravikant  122075050.0\n",
            "9      Steve Case  117102986.0\n"
          ]
        }
      ]
    },
    {
      "cell_type": "markdown",
      "source": [
        "Peter Thiel contributed the most "
      ],
      "metadata": {
        "id": "OO7TlmJoiHDt"
      }
    },
    {
      "cell_type": "code",
      "source": [
        "#Which investors contributed the most money per startup?\n",
        "s = 'select investor_name,company_name, sum(raised_amount_usd) as sum from lenders group by company_name order by sum desc;'\n",
        "startup_amount = pd.read_sql(s, conn)\n",
        "print(startup_amount[:10])"
      ],
      "metadata": {
        "colab": {
          "base_uri": "https://localhost:8080/"
        },
        "id": "jRQdknN-f2hQ",
        "outputId": "179df8dd-986e-4951-c14d-312c359ccacc"
      },
      "execution_count": 48,
      "outputs": [
        {
          "output_type": "stream",
          "name": "stdout",
          "text": [
            "              investor_name                     company_name          sum\n",
            "0             Vikram Pandit                       CommonBond  300000000.0\n",
            "1               Peter Thiel          Legendary Entertainment  275000000.0\n",
            "2              Suhail Rizvi                        Flipboard  171000000.0\n",
            "3            Randal J. Kirk             Intrexon Corporation  150000000.0\n",
            "4               Ted Leonsis                 Revolution Money  134000000.0\n",
            "5           Ross Perot, Jr.                          Clinkle  125000000.0\n",
            "6  Stanley F. Druckenmiller             Relationship Science  120000000.0\n",
            "7             Raymond James                  T5 Data Centers  113000000.0\n",
            "8               Yuri Milner                          23andMe  112600000.0\n",
            "9               Paul Posner  Pocket Communications Northeast  100000000.0\n"
          ]
        }
      ]
    },
    {
      "cell_type": "markdown",
      "source": [
        "Vikram Pandit contrinuted most to a single commonBond startup company"
      ],
      "metadata": {
        "id": "oUiHEsH7iT79"
      }
    },
    {
      "cell_type": "code",
      "source": [
        "#Which funding round was the most popular? Which was the least popular?\n",
        "f = 'select funding_round_type,  count(*) as counts  from lenders group by  funding_round_type order by counts desc;'\n",
        "funding_round = pd.read_sql(f, conn)\n",
        "print(funding_round[:10])\n"
      ],
      "metadata": {
        "colab": {
          "base_uri": "https://localhost:8080/"
        },
        "id": "sMIlDYXJg7vu",
        "outputId": "64ab0f7a-9fca-4ad5-c354-44a0b6a23f37"
      },
      "execution_count": 46,
      "outputs": [
        {
          "output_type": "stream",
          "name": "stdout",
          "text": [
            "  funding_round_type  counts\n",
            "0              angel    1125\n",
            "1           series-a     994\n",
            "2            venture     192\n",
            "3           series-b     145\n",
            "4          series-c+      88\n",
            "5              other      27\n",
            "6     private-equity       9\n"
          ]
        }
      ]
    },
    {
      "cell_type": "markdown",
      "source": [
        "most popular angel\n",
        "last popular privae-equity"
      ],
      "metadata": {
        "id": "tkfZaGSRhmC0"
      }
    }
  ]
}